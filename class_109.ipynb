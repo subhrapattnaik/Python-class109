{
  "nbformat": 4,
  "nbformat_minor": 0,
  "metadata": {
    "colab": {
      "name": "class-109.ipynb",
      "provenance": [],
      "collapsed_sections": [],
      "authorship_tag": "ABX9TyMz/SSCqsOfTveOX55f78Ja",
      "include_colab_link": true
    },
    "kernelspec": {
      "name": "python3",
      "display_name": "Python 3"
    },
    "language_info": {
      "name": "python"
    }
  },
  "cells": [
    {
      "cell_type": "markdown",
      "metadata": {
        "id": "view-in-github",
        "colab_type": "text"
      },
      "source": [
        "<a href=\"https://colab.research.google.com/github/shashwatshukla123/class-109/blob/main/class_109.ipynb\" target=\"_parent\"><img src=\"https://colab.research.google.com/assets/colab-badge.svg\" alt=\"Open In Colab\"/></a>"
      ]
    },
    {
      "cell_type": "markdown",
      "metadata": {
        "id": "h8f6F0Kb4OBu"
      },
      "source": [
        "**Properties of normal distribution**\n",
        "mean median mode are all equal and they are at the peak\n",
        "symmetrical in nature(mean divides into 2 equal parts)\n",
        "68% of the data lies within 1st standard deviation(between mean-sd to mean+sd ).\n",
        "95% of the data lies within 2st standard deviation(mean-2sd to mean+2sd).\n",
        "99% of the data lies within 3st standard deviation(mean-3sd to mean+3sd).\n",
        "y-axis is probablity.\n"
      ]
    },
    {
      "cell_type": "code",
      "metadata": {
        "colab": {
          "base_uri": "https://localhost:8080/"
        },
        "id": "a-EQadae5mk-",
        "outputId": "330491ae-e3a8-44ef-df1d-7f275e8fff7e"
      },
      "source": [
        "import random\n",
        "import plotly.express as px\n",
        "import plotly.figure_factory as ff\n",
        "import statistics\n",
        "import csv\n",
        "\n",
        "dice_result=[]\n",
        "count=[]\n",
        "# roll and add the dice for 100 times\n",
        "for i in range (0,100):\n",
        "  dice1= random.randint(1,6)\n",
        "  dice2= random.randint(1,6)\n",
        "  dice_result.append(dice1+dice2)\n",
        "  count.append(i)\n",
        "\n",
        "#mean=sum(dice_result)/len(dice_result)\n",
        "mean=statistics.mean(dice_result)\n",
        "std_diviation=statistics.stdev(dice_result)  \n",
        "median=statistics.median(dice_result)\n",
        "mode=statistics.mode(dice_result)\n",
        "\n",
        "print(\"mean of the data is  {}\".format(mean) )\n",
        "print(\"median of the data is  {}\".format(median) )\n",
        "print(\"mode of the data is  {}\".format(mode) )\n",
        "print(\"std_diviation of the data is  {}\".format(std_diviation) )"
      ],
      "execution_count": 4,
      "outputs": [
        {
          "output_type": "stream",
          "text": [
            "mean of the data is  6.94\n",
            "median of the data is  7.0\n",
            "mode of the data is  7\n",
            "std_diviation of the data is  2.1406125810669763\n"
          ],
          "name": "stdout"
        }
      ]
    },
    {
      "cell_type": "code",
      "metadata": {
        "colab": {
          "base_uri": "https://localhost:8080/",
          "height": 661
        },
        "id": "ODYX4luW8oDY",
        "outputId": "815fcad2-716d-4c03-c1f3-ed0fd9aae1a8"
      },
      "source": [
        "first_sd_start,first_sd_end=mean-std_diviation,mean+std_diviation\n",
        "second_sd_start,second_sd_end=mean-(2*std_diviation),mean+(2*std_diviation)\n",
        "third_sd_start,third_sd_end=mean-(3*std_diviation),mean+(3*std_diviation)\n",
        "\n",
        "listofdata_within_1stStDeviation=[result for result in dice_result if result > first_sd_start and result < first_sd_end]\n",
        "listofdata_within_2ndStDeviation=[result for result in dice_result if result > second_sd_start and result < second_sd_end]\n",
        "listofdata_within_3rdStDeviation=[result for result in dice_result if result > third_sd_start and result < third_sd_end]\n",
        "\n",
        "print(\"{}% of data lies within 1st standard deviation \".format(len(listofdata_within_1stStDeviation)*100/len(dice_result)))\n",
        "print(\"{}% of data lies within 2nd standard deviation \".format(len(listofdata_within_2ndStDeviation)*100/len(dice_result)))\n",
        "print(\"{}% of data lies within 3rd standard deviation \".format(len(listofdata_within_3rdStDeviation)*100/len(dice_result)))\n",
        "print(mean)\n",
        "print(median)\n",
        "print(mode)\n",
        "print(std_diviation)\n",
        "fig=ff.create_distplot([dice_result],[\"result\"],show_hist=False)\n",
        "fig.show()"
      ],
      "execution_count": 26,
      "outputs": [
        {
          "output_type": "stream",
          "text": [
            "77.0% of data lies within 1st standard deviation \n",
            "95.0% of data lies within 2nd standard deviation \n",
            "100.0% of data lies within 3rd standard deviation \n",
            "6.94\n",
            "7.0\n",
            "7\n",
            "2.1406125810669763\n"
          ],
          "name": "stdout"
        },
        {
          "output_type": "display_data",
          "data": {
            "text/html": [
              "<html>\n",
              "<head><meta charset=\"utf-8\" /></head>\n",
              "<body>\n",
              "    <div>\n",
              "            <script src=\"https://cdnjs.cloudflare.com/ajax/libs/mathjax/2.7.5/MathJax.js?config=TeX-AMS-MML_SVG\"></script><script type=\"text/javascript\">if (window.MathJax) {MathJax.Hub.Config({SVG: {font: \"STIX-Web\"}});}</script>\n",
              "                <script type=\"text/javascript\">window.PlotlyConfig = {MathJaxConfig: 'local'};</script>\n",
              "        <script src=\"https://cdn.plot.ly/plotly-latest.min.js\"></script>    \n",
              "            <div id=\"3d956f9a-a84a-4137-b72a-e1e69955cdb8\" class=\"plotly-graph-div\" style=\"height:525px; width:100%;\"></div>\n",
              "            <script type=\"text/javascript\">\n",
              "                \n",
              "                    window.PLOTLYENV=window.PLOTLYENV || {};\n",
              "                    \n",
              "                if (document.getElementById(\"3d956f9a-a84a-4137-b72a-e1e69955cdb8\")) {\n",
              "                    Plotly.newPlot(\n",
              "                        '3d956f9a-a84a-4137-b72a-e1e69955cdb8',\n",
              "                        [{\"legendgroup\": \"result\", \"marker\": {\"color\": \"rgb(31, 119, 180)\"}, \"mode\": \"lines\", \"name\": \"result\", \"showlegend\": true, \"type\": \"scatter\", \"x\": [2.0, 2.02, 2.04, 2.06, 2.08, 2.1, 2.12, 2.14, 2.16, 2.18, 2.2, 2.22, 2.24, 2.26, 2.2800000000000002, 2.3, 2.32, 2.34, 2.36, 2.38, 2.4, 2.42, 2.44, 2.46, 2.48, 2.5, 2.52, 2.54, 2.56, 2.58, 2.6, 2.62, 2.64, 2.66, 2.68, 2.7, 2.7199999999999998, 2.74, 2.76, 2.7800000000000002, 2.8, 2.82, 2.84, 2.86, 2.88, 2.9, 2.92, 2.94, 2.96, 2.98, 3.0, 3.02, 3.04, 3.06, 3.08, 3.1, 3.12, 3.1399999999999997, 3.16, 3.1799999999999997, 3.2, 3.2199999999999998, 3.24, 3.26, 3.2800000000000002, 3.3, 3.3200000000000003, 3.34, 3.3600000000000003, 3.38, 3.4, 3.42, 3.44, 3.46, 3.48, 3.5, 3.52, 3.54, 3.56, 3.58, 3.6, 3.62, 3.6399999999999997, 3.66, 3.6799999999999997, 3.7, 3.7199999999999998, 3.74, 3.76, 3.7800000000000002, 3.8, 3.8200000000000003, 3.84, 3.8600000000000003, 3.88, 3.9, 3.92, 3.94, 3.96, 3.98, 4.0, 4.02, 4.04, 4.0600000000000005, 4.08, 4.1, 4.12, 4.140000000000001, 4.16, 4.18, 4.2, 4.220000000000001, 4.24, 4.26, 4.279999999999999, 4.3, 4.32, 4.34, 4.359999999999999, 4.38, 4.4, 4.42, 4.4399999999999995, 4.46, 4.48, 4.5, 4.52, 4.54, 4.5600000000000005, 4.58, 4.6, 4.62, 4.640000000000001, 4.66, 4.68, 4.7, 4.720000000000001, 4.74, 4.76, 4.779999999999999, 4.8, 4.82, 4.84, 4.859999999999999, 4.88, 4.9, 4.92, 4.9399999999999995, 4.96, 4.98, 5.0, 5.02, 5.04, 5.0600000000000005, 5.08, 5.1, 5.12, 5.140000000000001, 5.16, 5.18, 5.2, 5.220000000000001, 5.24, 5.26, 5.279999999999999, 5.3, 5.32, 5.34, 5.359999999999999, 5.38, 5.4, 5.42, 5.4399999999999995, 5.46, 5.48, 5.5, 5.52, 5.54, 5.5600000000000005, 5.58, 5.6, 5.62, 5.640000000000001, 5.66, 5.68, 5.7, 5.720000000000001, 5.74, 5.76, 5.779999999999999, 5.8, 5.82, 5.84, 5.859999999999999, 5.88, 5.9, 5.92, 5.9399999999999995, 5.96, 5.98, 6.0, 6.02, 6.04, 6.06, 6.08, 6.1, 6.12, 6.14, 6.16, 6.18, 6.2, 6.22, 6.24, 6.26, 6.28, 6.3, 6.32, 6.34, 6.36, 6.38, 6.4, 6.42, 6.44, 6.46, 6.48, 6.5, 6.52, 6.54, 6.56, 6.58, 6.6, 6.62, 6.64, 6.66, 6.68, 6.7, 6.72, 6.74, 6.76, 6.78, 6.8, 6.82, 6.84, 6.86, 6.88, 6.9, 6.92, 6.94, 6.96, 6.98, 7.0, 7.02, 7.04, 7.06, 7.08, 7.1, 7.12, 7.14, 7.16, 7.18, 7.2, 7.22, 7.24, 7.26, 7.28, 7.3, 7.32, 7.34, 7.36, 7.38, 7.4, 7.42, 7.44, 7.46, 7.48, 7.5, 7.52, 7.54, 7.56, 7.58, 7.6, 7.62, 7.64, 7.66, 7.68, 7.7, 7.72, 7.74, 7.76, 7.78, 7.8, 7.82, 7.84, 7.86, 7.88, 7.9, 7.92, 7.94, 7.96, 7.98, 8.0, 8.02, 8.04, 8.059999999999999, 8.08, 8.1, 8.120000000000001, 8.14, 8.16, 8.18, 8.2, 8.219999999999999, 8.24, 8.26, 8.280000000000001, 8.3, 8.32, 8.34, 8.36, 8.379999999999999, 8.4, 8.42, 8.440000000000001, 8.46, 8.48, 8.5, 8.52, 8.54, 8.559999999999999, 8.58, 8.6, 8.620000000000001, 8.64, 8.66, 8.68, 8.7, 8.719999999999999, 8.74, 8.76, 8.780000000000001, 8.8, 8.82, 8.84, 8.86, 8.879999999999999, 8.9, 8.92, 8.940000000000001, 8.96, 8.98, 9.0, 9.02, 9.04, 9.059999999999999, 9.08, 9.1, 9.120000000000001, 9.14, 9.16, 9.18, 9.2, 9.219999999999999, 9.24, 9.26, 9.280000000000001, 9.3, 9.32, 9.34, 9.36, 9.379999999999999, 9.4, 9.42, 9.440000000000001, 9.46, 9.48, 9.5, 9.52, 9.54, 9.559999999999999, 9.58, 9.6, 9.620000000000001, 9.64, 9.66, 9.68, 9.7, 9.719999999999999, 9.74, 9.76, 9.780000000000001, 9.8, 9.82, 9.84, 9.86, 9.879999999999999, 9.9, 9.92, 9.940000000000001, 9.96, 9.98, 10.0, 10.02, 10.04, 10.06, 10.08, 10.1, 10.12, 10.14, 10.16, 10.18, 10.2, 10.22, 10.24, 10.26, 10.28, 10.3, 10.32, 10.34, 10.36, 10.38, 10.4, 10.42, 10.44, 10.46, 10.48, 10.5, 10.52, 10.54, 10.56, 10.58, 10.6, 10.62, 10.64, 10.66, 10.68, 10.7, 10.72, 10.74, 10.76, 10.78, 10.8, 10.82, 10.84, 10.86, 10.88, 10.9, 10.92, 10.94, 10.96, 10.98, 11.0, 11.02, 11.04, 11.06, 11.08, 11.1, 11.12, 11.14, 11.16, 11.18, 11.2, 11.22, 11.24, 11.26, 11.28, 11.3, 11.32, 11.34, 11.36, 11.38, 11.4, 11.42, 11.44, 11.46, 11.48, 11.5, 11.52, 11.54, 11.56, 11.58, 11.6, 11.62, 11.64, 11.66, 11.68, 11.7, 11.72, 11.74, 11.76, 11.78, 11.8, 11.82, 11.84, 11.86, 11.88, 11.9, 11.92, 11.94, 11.96, 11.98], \"xaxis\": \"x\", \"y\": [0.022724058092100846, 0.023010734790010597, 0.023295696217575365, 0.02357895434664901, 0.023860530474305634, 0.024140455274926077, 0.024418768832478743, 0.024695520653173975, 0.024970769658731896, 0.02524458416055901, 0.02551704181518514, 0.02578822956135844, 0.02605824353924559, 0.02632718899222378, 0.026595180151790673, 0.02686234010615037, 0.027128800653063608, 0.02739470213757367, 0.027660193275240868, 0.027925430961531682, 0.028190580068021547, 0.028455813226074708, 0.028721310598667647, 0.02898725964101982, 0.02925385485068859, 0.029521297507775646, 0.02978979540587692, 0.03005956257439197, 0.030330818992786154, 0.030603790297376955, 0.030878707481187755, 0.031155806587385666, 0.03143532839678677, 0.031717518109882756, 0.0320026250238068, 0.03229090220462377, 0.03258260615529459, 0.03287799647962856, 0.03317733554250395, 0.03348088812660228, 0.0337889210858676, 0.03410170299587251, 0.034419503801239815, 0.03474259446024264, 0.035071246586678574, 0.035405732089092236, 0.03574632280739823, 0.03609329014694221, 0.0364469047100223, 0.03680743592488586, 0.03717515167220855, 0.03755031790906419, 0.03793319829039387, 0.0383240537879921, 0.038723142307038536, 0.039130718300220454, 0.03954703237951054, 0.03997233092569277, 0.04040685569575505, 0.04085084342830234, 0.04130452544718582, 0.04176812726357788, 0.04224186817677698, 0.04272596087406995, 0.043220611030034266, 0.04372601690571874, 0.04424236894819829, 0.04476984939105886, 0.045308631856432, 0.045858880959260585, 0.04642075191454299, 0.046994390148366504, 0.047579930913607, 0.04817749891123505, 0.04878720791823145, 0.0494091604231768, 0.05004344727063833, 0.05069014731553295, 0.05134932708869769, 0.05202104047494792, 0.05270532840494533, 0.05340221856223937, 0.05411172510687414, 0.05483384841698403, 0.05556857484981531, 0.05631587652362925, 0.05707571112194128, 0.05784802172155037, 0.05863273664579982, 0.05942976934448891, 0.06023901830182428, 0.061060366973763276, 0.06189368375604653, 0.06273882198416496, 0.06359561996643098, 0.06446390105125137, 0.06534347372960596, 0.066234131773642, 0.06713565441218543, 0.06804780654385496, 0.06897033898833876, 0.06990298877626289, 0.07084547947793561, 0.07179752157110805, 0.0727588128477322, 0.0737290388595398, 0.07470787340209731, 0.07569497903682104, 0.07669000765026433, 0.07769260104980845, 0.07870239159471205, 0.07971900286129262, 0.08074205034083584, 0.0817711421686449, 0.08280587988247393, 0.08384585920840551, 0.08489067087207548, 0.08593990143297324, 0.08699313413939784, 0.08804994980149473, 0.08910992767965879, 0.09017264638545938, 0.09123768479211851, 0.09230462295146583, 0.09337304301419372, 0.09444253015015444, 0.09551267346536557, 0.0965830669123359, 0.09765331019028001, 0.09872300963176249, 0.09979177907230365, 0.10085924069947877, 0.10192502587806943, 0.1029887759478561, 0.10405014299070148, 0.10510879056363974, 0.10616439439477134, 0.1072166430388724, 0.10826523848973772, 0.10930989674641145, 0.11035034833061078, 0.11138633875280415, 0.11241762892458396, 0.11344399551516042, 0.11446523125000221, 0.1154811451498593, 0.11649156270862919, 0.1174963260087454, 0.11849529377301928, 0.11948834135209814, 0.12047536064695936, 0.1214562599661131, 0.12243096381744424, 0.12339941263488391, 0.1243615624403655, 0.12531738444177806, 0.12626686456789427, 0.1272100029415041, 0.12814681329224703, 0.1290773223108781, 0.1300015689469541, 0.13091960365216374, 0.13183148757175442, 0.13273729168673287, 0.13363709590973116, 0.13453098813763012, 0.13541906326422742, 0.1363014221564173, 0.13717817059751702, 0.13804941820153369, 0.13891527730230177, 0.13977586182155716, 0.1406312861201234, 0.14148166383648483, 0.14232710671710846, 0.14316772344294348, 0.14400361845657994, 0.14483489079459008, 0.14566163292959028, 0.14648392962657478, 0.14730185681805816, 0.14811548050253692, 0.14892485567073901, 0.14973002526407447, 0.15053101916962044, 0.15132785325589032, 0.152120528453527, 0.15290902988494137, 0.15369332604678163, 0.15447336804896833, 0.15524908891386607, 0.15602040293898148, 0.15678720512638697, 0.15754937068186423, 0.15830675458653892, 0.15905919124355206, 0.15980649420206766, 0.16054845596066414, 0.16128484785188915, 0.1620154200094902, 0.16273990141954306, 0.16345800005641117, 0.16416940310417363, 0.16487377726384553, 0.1655707691464135, 0.16626000575138344, 0.1669410950302249, 0.16761362653377154, 0.1682771721423133, 0.1689312868767916, 0.1695755097891891, 0.17020936492988134, 0.1708323623894016, 0.17144399941176008, 0.17204376157614815, 0.17263112404356573, 0.173205552864613, 0.17376650634441884, 0.1743134364603998, 0.17484579032829636, 0.17536301171169372, 0.1758645425700073, 0.17634982463970794, 0.17681830104337581, 0.1772694179210009, 0.1777026260778018, 0.1781173826427076, 0.178513152731548, 0.17888941110891166, 0.17924564384258485, 0.17958134994445132, 0.17989604299172077, 0.18018925272239616, 0.18046052659891748, 0.18070943133400855, 0.18093555437285186, 0.18113850532584425, 0.18131791734634073, 0.18147344844797567, 0.1816047827563603, 0.18171163169017396, 0.18179373506693652, 0.18185086212901136, 0.18188281248569524, 0.1818894169675672, 0.1818705383896028, 0.18182607221991726, 0.1817559471513677, 0.18166012557362746, 0.18153860394374235, 0.1813914130535847, 0.18121861819302146, 0.18102031920805242, 0.18079665045357082, 0.18054778064084714, 0.18027391258023584, 0.17997528282004502, 0.1796521611829127, 0.17930485020144052, 0.17893368445524346, 0.17853902981195252, 0.17812128257509124, 0.17768086854209605, 0.1772182419761084, 0.17673388449547545, 0.17622830388521743, 0.17570203283498947, 0.17515562760834194, 0.1745896666483096, 0.17400474912457822, 0.17340149342766742, 0.17278053561572945, 0.1721425278196943, 0.17148813661260814, 0.17081804134909034, 0.17013293248088077, 0.16943350985449174, 0.16872048099696313, 0.1679945593957053, 0.16725646277835166, 0.16650691139847706, 0.16574662633292275, 0.16497632779635743, 0.16419673347854538, 0.1634085569096292, 0.1626125058585457, 0.16180928076948406, 0.16099957324106937, 0.1601840645527214, 0.1593634242423731, 0.15853830873947233, 0.15770936005691072, 0.15687720454523135, 0.15604245171217745, 0.15520569311032906, 0.15436750129528243, 0.15352842885650153, 0.1526890075226666, 0.15184974734302714, 0.15101113594595708, 0.1501736378755992, 0.14933769400717867, 0.14850372104126827, 0.1476721110769897, 0.1468432312638536, 0.14601742353165592, 0.14519500439758698, 0.1443762648494463, 0.14356147030361083, 0.14275086063617176, 0.14194465028542577, 0.1411430284237081, 0.14034615919635063, 0.13955418202537126, 0.13876721197533298, 0.13798534017866326, 0.13720863431757804, 0.1364371391596486, 0.13567087714392603, 0.13490984901446038, 0.134154034497968, 0.1334033930223442, 0.1326578644726665, 0.13191736998131096, 0.13118181274877608, 0.130451078891815, 0.12972503831548002, 0.12900354560571184, 0.12828644093913827, 0.127573551006797, 0.1268646899485566, 0.1261596602950808, 0.1254582539142626, 0.12476025295914317, 0.12406543081443583, 0.12337355303888062, 0.1226843783007679, 0.12199765930410195, 0.12131314370299794, 0.1206305750020395, 0.11994969344047439, 0.11927023685825565, 0.11859194154209354, 0.11791454304983136, 0.11723777701160165, 0.1165613799063835, 0.11588508981272587, 0.11520864713255191, 0.11453179528712097, 0.11385428138435533, 0.1131758568569002, 0.11249627807042098, 0.11181530690177142, 0.11113271128681607, 0.1104482657378003, 0.10976175183029364, 0.10907295865984197, 0.10838168326857318, 0.10768773104210153, 0.10699091607716868, 0.10629106152054081, 0.10558799987976275, 0.104881573306435, 0.1041716338527343, 0.10345804370195819, 0.1027406753739039, 0.10201941190593479, 0.10129414701060392, 0.10056478521072136, 0.09983124195276405, 0.09909344369951571, 0.09835132800282693, 0.09760484355735943, 0.0968539502361632, 0.09609861910890075, 0.0953388324435, 0.09457458369197587, 0.093805877461116, 0.09303272946867733, 0.09225516648568373, 0.0914732262653672, 0.09068695745922997, 0.08989641952065111, 0.08910168259640107, 0.08830282740636596, 0.08749994511173292, 0.08669313717181949, 0.08588251518968594, 0.08506820074661497, 0.08425032522549034, 0.0834290296230689, 0.08260446435109665, 0.08177678902618486, 0.08094617224833627, 0.0801127913679822, 0.07927683224138173, 0.07843848897421621, 0.07759796365321033, 0.076755466065618, 0.0759112134064105, 0.07506542997302816, 0.07421834684758016, 0.07337020156639572, 0.07252123777687836, 0.07167170488164769, 0.07082185767000229, 0.06997195593679295, 0.06912226408884842, 0.06827305073916203, 0.06742458828911133, 0.06657715249905302, 0.06573102204770846, 0.06488647808083185, 0.06404380374972242, 0.06320328374023029, 0.06236520379297346, 0.06152985021556746, 0.060697509387741704, 0.05986846726029353, 0.05904300884890303, 0.05822141772390065, 0.05740397549714442, 0.05659096130722876, 0.05578265130430037, 0.05497931813580957, 0.054181230434572306, 0.05338865231055608, 0.05260184284783826, 0.051821055608210286, 0.05104653814291997, 0.05027853151405659, 0.04951726982708741, 0.0487629797760496, 0.04801588020289099, 0.04727618167243156, 0.04654408606439236, 0.045819786183901555, 0.04510346539184574, 0.04439529725638186, 0.04369544522687145, 0.04300406233143015, 0.04232129089921761, 0.04164726230851282, 0.04098209676153867, 0.04032590308691119, 0.039678778570492235, 0.0390408088153301, 0.03841206763126894, 0.03779261695470174, 0.03718250679883595, 0.03658177523472729, 0.03599044840322825, 0.03540854055788243, 0.0348360541386834, 0.0342729798765025, 0.03371929692787689, 0.03317497303973809, 0.0326399647435501, 0.03211421757821808, 0.03159766634102494, 0.03109023536574906, 0.030591838827019855, 0.030102381069873157, 0.029621756963377183, 0.029149852277118613, 0.028686544079255943, 0.028231701154773768, 0.02778518444250546, 0.027346847489428335, 0.026916536920680138, 0.026494092923697966, 0.026079349744836545, 0.02567213619678971, 0.025272276175108608, 0.02487958918209013, 0.024493890856292843, 0.024114993505933085, 0.023742706644409927, 0.023376837526216214, 0.023017191681505907, 0.0226635734476066, 0.022315786495793133, 0.02197363435167067, 0.021636920907554508, 0.021305450925276952, 0.020979030527904015, 0.020657467678898794, 0.020340572647328626, 0.020028158457779947, 0.01972004132371349, 0.019416041063066408, 0.01911598149498651, 0.01881969081666377, 0.01852700195930958, 0.018237752922420424, 0.017951787085551545, 0.01766895349691831, 0.0173891071382347, 0.017112109165292065, 0.016837827123876447], \"yaxis\": \"y\"}, {\"legendgroup\": \"result\", \"marker\": {\"color\": \"rgb(31, 119, 180)\", \"symbol\": \"line-ns-open\"}, \"mode\": \"markers\", \"name\": \"result\", \"showlegend\": false, \"type\": \"scatter\", \"x\": [12, 7, 7, 8, 8, 10, 5, 6, 8, 8, 5, 7, 7, 8, 9, 3, 10, 9, 7, 7, 5, 7, 9, 3, 9, 5, 4, 9, 8, 11, 7, 4, 7, 6, 9, 7, 9, 9, 8, 7, 5, 6, 6, 6, 10, 10, 10, 6, 7, 6, 7, 6, 4, 7, 9, 7, 3, 10, 9, 11, 4, 8, 6, 7, 6, 7, 5, 2, 5, 8, 6, 5, 4, 8, 5, 7, 9, 2, 8, 2, 10, 10, 12, 6, 8, 6, 5, 5, 9, 7, 6, 6, 5, 7, 7, 5, 8, 7, 5, 7], \"xaxis\": \"x\", \"y\": [\"result\", \"result\", \"result\", \"result\", \"result\", \"result\", \"result\", \"result\", \"result\", \"result\", \"result\", \"result\", \"result\", \"result\", \"result\", \"result\", \"result\", \"result\", \"result\", \"result\", \"result\", \"result\", \"result\", \"result\", \"result\", \"result\", \"result\", \"result\", \"result\", \"result\", \"result\", \"result\", \"result\", \"result\", \"result\", \"result\", \"result\", \"result\", \"result\", \"result\", \"result\", \"result\", \"result\", \"result\", \"result\", \"result\", \"result\", \"result\", \"result\", \"result\", \"result\", \"result\", \"result\", \"result\", \"result\", \"result\", \"result\", \"result\", \"result\", \"result\", \"result\", \"result\", \"result\", \"result\", \"result\", \"result\", \"result\", \"result\", \"result\", \"result\", \"result\", \"result\", \"result\", \"result\", \"result\", \"result\", \"result\", \"result\", \"result\", \"result\", \"result\", \"result\", \"result\", \"result\", \"result\", \"result\", \"result\", \"result\", \"result\", \"result\", \"result\", \"result\", \"result\", \"result\", \"result\", \"result\", \"result\", \"result\", \"result\", \"result\"], \"yaxis\": \"y2\"}],\n",
              "                        {\"barmode\": \"overlay\", \"hovermode\": \"closest\", \"legend\": {\"traceorder\": \"reversed\"}, \"template\": {\"data\": {\"bar\": [{\"error_x\": {\"color\": \"#2a3f5f\"}, \"error_y\": {\"color\": \"#2a3f5f\"}, \"marker\": {\"line\": {\"color\": \"#E5ECF6\", \"width\": 0.5}}, \"type\": \"bar\"}], \"barpolar\": [{\"marker\": {\"line\": {\"color\": \"#E5ECF6\", \"width\": 0.5}}, \"type\": \"barpolar\"}], \"carpet\": [{\"aaxis\": {\"endlinecolor\": \"#2a3f5f\", \"gridcolor\": \"white\", \"linecolor\": \"white\", \"minorgridcolor\": \"white\", \"startlinecolor\": \"#2a3f5f\"}, \"baxis\": {\"endlinecolor\": \"#2a3f5f\", \"gridcolor\": \"white\", \"linecolor\": \"white\", \"minorgridcolor\": \"white\", \"startlinecolor\": \"#2a3f5f\"}, \"type\": \"carpet\"}], \"choropleth\": [{\"colorbar\": {\"outlinewidth\": 0, \"ticks\": \"\"}, \"type\": \"choropleth\"}], \"contour\": [{\"colorbar\": {\"outlinewidth\": 0, \"ticks\": \"\"}, \"colorscale\": [[0.0, \"#0d0887\"], [0.1111111111111111, \"#46039f\"], [0.2222222222222222, \"#7201a8\"], [0.3333333333333333, \"#9c179e\"], [0.4444444444444444, \"#bd3786\"], [0.5555555555555556, \"#d8576b\"], [0.6666666666666666, \"#ed7953\"], [0.7777777777777778, \"#fb9f3a\"], [0.8888888888888888, \"#fdca26\"], [1.0, \"#f0f921\"]], \"type\": \"contour\"}], \"contourcarpet\": [{\"colorbar\": {\"outlinewidth\": 0, \"ticks\": \"\"}, \"type\": \"contourcarpet\"}], \"heatmap\": [{\"colorbar\": {\"outlinewidth\": 0, \"ticks\": \"\"}, \"colorscale\": [[0.0, \"#0d0887\"], [0.1111111111111111, \"#46039f\"], [0.2222222222222222, \"#7201a8\"], [0.3333333333333333, \"#9c179e\"], [0.4444444444444444, \"#bd3786\"], [0.5555555555555556, \"#d8576b\"], [0.6666666666666666, \"#ed7953\"], [0.7777777777777778, \"#fb9f3a\"], [0.8888888888888888, \"#fdca26\"], [1.0, \"#f0f921\"]], \"type\": \"heatmap\"}], \"heatmapgl\": [{\"colorbar\": {\"outlinewidth\": 0, \"ticks\": \"\"}, \"colorscale\": [[0.0, \"#0d0887\"], [0.1111111111111111, \"#46039f\"], [0.2222222222222222, \"#7201a8\"], [0.3333333333333333, \"#9c179e\"], [0.4444444444444444, \"#bd3786\"], [0.5555555555555556, \"#d8576b\"], [0.6666666666666666, \"#ed7953\"], [0.7777777777777778, \"#fb9f3a\"], [0.8888888888888888, \"#fdca26\"], [1.0, \"#f0f921\"]], \"type\": \"heatmapgl\"}], \"histogram\": [{\"marker\": {\"colorbar\": {\"outlinewidth\": 0, \"ticks\": \"\"}}, \"type\": \"histogram\"}], \"histogram2d\": [{\"colorbar\": {\"outlinewidth\": 0, \"ticks\": \"\"}, \"colorscale\": [[0.0, \"#0d0887\"], [0.1111111111111111, \"#46039f\"], [0.2222222222222222, \"#7201a8\"], [0.3333333333333333, \"#9c179e\"], [0.4444444444444444, \"#bd3786\"], [0.5555555555555556, \"#d8576b\"], [0.6666666666666666, \"#ed7953\"], [0.7777777777777778, \"#fb9f3a\"], [0.8888888888888888, \"#fdca26\"], [1.0, \"#f0f921\"]], \"type\": \"histogram2d\"}], \"histogram2dcontour\": [{\"colorbar\": {\"outlinewidth\": 0, \"ticks\": \"\"}, \"colorscale\": [[0.0, \"#0d0887\"], [0.1111111111111111, \"#46039f\"], [0.2222222222222222, \"#7201a8\"], [0.3333333333333333, \"#9c179e\"], [0.4444444444444444, \"#bd3786\"], [0.5555555555555556, \"#d8576b\"], [0.6666666666666666, \"#ed7953\"], [0.7777777777777778, \"#fb9f3a\"], [0.8888888888888888, \"#fdca26\"], [1.0, \"#f0f921\"]], \"type\": \"histogram2dcontour\"}], \"mesh3d\": [{\"colorbar\": {\"outlinewidth\": 0, \"ticks\": \"\"}, \"type\": \"mesh3d\"}], \"parcoords\": [{\"line\": {\"colorbar\": {\"outlinewidth\": 0, \"ticks\": \"\"}}, \"type\": \"parcoords\"}], \"pie\": [{\"automargin\": true, \"type\": \"pie\"}], \"scatter\": [{\"marker\": {\"colorbar\": {\"outlinewidth\": 0, \"ticks\": \"\"}}, \"type\": \"scatter\"}], \"scatter3d\": [{\"line\": {\"colorbar\": {\"outlinewidth\": 0, \"ticks\": \"\"}}, \"marker\": {\"colorbar\": {\"outlinewidth\": 0, \"ticks\": \"\"}}, \"type\": \"scatter3d\"}], \"scattercarpet\": [{\"marker\": {\"colorbar\": {\"outlinewidth\": 0, \"ticks\": \"\"}}, \"type\": \"scattercarpet\"}], \"scattergeo\": [{\"marker\": {\"colorbar\": {\"outlinewidth\": 0, \"ticks\": \"\"}}, \"type\": \"scattergeo\"}], \"scattergl\": [{\"marker\": {\"colorbar\": {\"outlinewidth\": 0, \"ticks\": \"\"}}, \"type\": \"scattergl\"}], \"scattermapbox\": [{\"marker\": {\"colorbar\": {\"outlinewidth\": 0, \"ticks\": \"\"}}, \"type\": \"scattermapbox\"}], \"scatterpolar\": [{\"marker\": {\"colorbar\": {\"outlinewidth\": 0, \"ticks\": \"\"}}, \"type\": \"scatterpolar\"}], \"scatterpolargl\": [{\"marker\": {\"colorbar\": {\"outlinewidth\": 0, \"ticks\": \"\"}}, \"type\": \"scatterpolargl\"}], \"scatterternary\": [{\"marker\": {\"colorbar\": {\"outlinewidth\": 0, \"ticks\": \"\"}}, \"type\": \"scatterternary\"}], \"surface\": [{\"colorbar\": {\"outlinewidth\": 0, \"ticks\": \"\"}, \"colorscale\": [[0.0, \"#0d0887\"], [0.1111111111111111, \"#46039f\"], [0.2222222222222222, \"#7201a8\"], [0.3333333333333333, \"#9c179e\"], [0.4444444444444444, \"#bd3786\"], [0.5555555555555556, \"#d8576b\"], [0.6666666666666666, \"#ed7953\"], [0.7777777777777778, \"#fb9f3a\"], [0.8888888888888888, \"#fdca26\"], [1.0, \"#f0f921\"]], \"type\": \"surface\"}], \"table\": [{\"cells\": {\"fill\": {\"color\": \"#EBF0F8\"}, \"line\": {\"color\": \"white\"}}, \"header\": {\"fill\": {\"color\": \"#C8D4E3\"}, \"line\": {\"color\": \"white\"}}, \"type\": \"table\"}]}, \"layout\": {\"annotationdefaults\": {\"arrowcolor\": \"#2a3f5f\", \"arrowhead\": 0, \"arrowwidth\": 1}, \"coloraxis\": {\"colorbar\": {\"outlinewidth\": 0, \"ticks\": \"\"}}, \"colorscale\": {\"diverging\": [[0, \"#8e0152\"], [0.1, \"#c51b7d\"], [0.2, \"#de77ae\"], [0.3, \"#f1b6da\"], [0.4, \"#fde0ef\"], [0.5, \"#f7f7f7\"], [0.6, \"#e6f5d0\"], [0.7, \"#b8e186\"], [0.8, \"#7fbc41\"], [0.9, \"#4d9221\"], [1, \"#276419\"]], \"sequential\": [[0.0, \"#0d0887\"], [0.1111111111111111, \"#46039f\"], [0.2222222222222222, \"#7201a8\"], [0.3333333333333333, \"#9c179e\"], [0.4444444444444444, \"#bd3786\"], [0.5555555555555556, \"#d8576b\"], [0.6666666666666666, \"#ed7953\"], [0.7777777777777778, \"#fb9f3a\"], [0.8888888888888888, \"#fdca26\"], [1.0, \"#f0f921\"]], \"sequentialminus\": [[0.0, \"#0d0887\"], [0.1111111111111111, \"#46039f\"], [0.2222222222222222, \"#7201a8\"], [0.3333333333333333, \"#9c179e\"], [0.4444444444444444, \"#bd3786\"], [0.5555555555555556, \"#d8576b\"], [0.6666666666666666, \"#ed7953\"], [0.7777777777777778, \"#fb9f3a\"], [0.8888888888888888, \"#fdca26\"], [1.0, \"#f0f921\"]]}, \"colorway\": [\"#636efa\", \"#EF553B\", \"#00cc96\", \"#ab63fa\", \"#FFA15A\", \"#19d3f3\", \"#FF6692\", \"#B6E880\", \"#FF97FF\", \"#FECB52\"], \"font\": {\"color\": \"#2a3f5f\"}, \"geo\": {\"bgcolor\": \"white\", \"lakecolor\": \"white\", \"landcolor\": \"#E5ECF6\", \"showlakes\": true, \"showland\": true, \"subunitcolor\": \"white\"}, \"hoverlabel\": {\"align\": \"left\"}, \"hovermode\": \"closest\", \"mapbox\": {\"style\": \"light\"}, \"paper_bgcolor\": \"white\", \"plot_bgcolor\": \"#E5ECF6\", \"polar\": {\"angularaxis\": {\"gridcolor\": \"white\", \"linecolor\": \"white\", \"ticks\": \"\"}, \"bgcolor\": \"#E5ECF6\", \"radialaxis\": {\"gridcolor\": \"white\", \"linecolor\": \"white\", \"ticks\": \"\"}}, \"scene\": {\"xaxis\": {\"backgroundcolor\": \"#E5ECF6\", \"gridcolor\": \"white\", \"gridwidth\": 2, \"linecolor\": \"white\", \"showbackground\": true, \"ticks\": \"\", \"zerolinecolor\": \"white\"}, \"yaxis\": {\"backgroundcolor\": \"#E5ECF6\", \"gridcolor\": \"white\", \"gridwidth\": 2, \"linecolor\": \"white\", \"showbackground\": true, \"ticks\": \"\", \"zerolinecolor\": \"white\"}, \"zaxis\": {\"backgroundcolor\": \"#E5ECF6\", \"gridcolor\": \"white\", \"gridwidth\": 2, \"linecolor\": \"white\", \"showbackground\": true, \"ticks\": \"\", \"zerolinecolor\": \"white\"}}, \"shapedefaults\": {\"line\": {\"color\": \"#2a3f5f\"}}, \"ternary\": {\"aaxis\": {\"gridcolor\": \"white\", \"linecolor\": \"white\", \"ticks\": \"\"}, \"baxis\": {\"gridcolor\": \"white\", \"linecolor\": \"white\", \"ticks\": \"\"}, \"bgcolor\": \"#E5ECF6\", \"caxis\": {\"gridcolor\": \"white\", \"linecolor\": \"white\", \"ticks\": \"\"}}, \"title\": {\"x\": 0.05}, \"xaxis\": {\"automargin\": true, \"gridcolor\": \"white\", \"linecolor\": \"white\", \"ticks\": \"\", \"title\": {\"standoff\": 15}, \"zerolinecolor\": \"white\", \"zerolinewidth\": 2}, \"yaxis\": {\"automargin\": true, \"gridcolor\": \"white\", \"linecolor\": \"white\", \"ticks\": \"\", \"title\": {\"standoff\": 15}, \"zerolinecolor\": \"white\", \"zerolinewidth\": 2}}}, \"xaxis\": {\"anchor\": \"y2\", \"domain\": [0.0, 1.0], \"zeroline\": false}, \"yaxis\": {\"anchor\": \"free\", \"domain\": [0.35, 1], \"position\": 0.0}, \"yaxis2\": {\"anchor\": \"x\", \"domain\": [0, 0.25], \"dtick\": 1, \"showticklabels\": false}},\n",
              "                        {\"responsive\": true}\n",
              "                    ).then(function(){\n",
              "                            \n",
              "var gd = document.getElementById('3d956f9a-a84a-4137-b72a-e1e69955cdb8');\n",
              "var x = new MutationObserver(function (mutations, observer) {{\n",
              "        var display = window.getComputedStyle(gd).display;\n",
              "        if (!display || display === 'none') {{\n",
              "            console.log([gd, 'removed!']);\n",
              "            Plotly.purge(gd);\n",
              "            observer.disconnect();\n",
              "        }}\n",
              "}});\n",
              "\n",
              "// Listen for the removal of the full notebook cells\n",
              "var notebookContainer = gd.closest('#notebook-container');\n",
              "if (notebookContainer) {{\n",
              "    x.observe(notebookContainer, {childList: true});\n",
              "}}\n",
              "\n",
              "// Listen for the clearing of the current output cell\n",
              "var outputEl = gd.closest('.output');\n",
              "if (outputEl) {{\n",
              "    x.observe(outputEl, {childList: true});\n",
              "}}\n",
              "\n",
              "                        })\n",
              "                };\n",
              "                \n",
              "            </script>\n",
              "        </div>\n",
              "</body>\n",
              "</html>"
            ]
          },
          "metadata": {
            "tags": []
          }
        }
      ]
    },
    {
      "cell_type": "code",
      "metadata": {
        "colab": {
          "base_uri": "https://localhost:8080/"
        },
        "id": "YLEBSiMCASE4",
        "outputId": "fd8d8066-0142-4639-c2d9-f417da7d2a8f"
      },
      "source": [
        "import pandas as pd\n",
        "import statistics\n",
        "import csv\n",
        "df = pd.read_csv(\"data-108.csv\")\n",
        "height_list = df[\"Height(Inches)\"].to_list()\n",
        "weight_list = df[\"Weight(Pounds)\"].to_list()\n",
        "#Mean for height and Weight\n",
        "height_mean = statistics.mean(height_list)\n",
        "weight_mean = statistics.mean(weight_list)\n",
        "#Median for height and weight\n",
        "height_median = statistics.median(height_list)\n",
        "weight_median = statistics.median(weight_list)\n",
        "#Mode for height and weight\n",
        "#height_mode = statistics.mode(height_list)\n",
        "weight_mode = statistics.mode(weight_list)\n",
        "#Printing mean, median and mode to validate\n",
        "print(\"Mean, Median and Mode of height is {} and {} respectively\".format(height_mean, height_median))\n",
        "print(\"Mean, Median and Mode of weight is {}, {} and {} respectively\".format(weight_mean, weight_median, weight_mode))\n",
        "#Standard deviation for height and weight\n",
        "height_std_deviation = statistics.stdev(height_list)\n",
        "weight_std_deviation = statistics.stdev(weight_list)\n",
        "#1, 2 and 3 Standard Deviations for height\n",
        "height_first_std_deviation_start, height_first_std_deviation_end = height_mean-height_std_deviation, height_mean+height_std_deviation\n",
        "height_second_std_deviation_start, height_second_std_deviation_end = height_mean-(2*height_std_deviation), height_mean+(2*height_std_deviation)\n",
        "height_third_std_deviation_start, height_third_std_deviation_end = height_mean-(3*height_std_deviation), height_mean+(3*height_std_deviation)\n",
        "#1, 2 and 3 Standard Deviations for weight\n",
        "weight_first_std_deviation_start, weight_first_std_deviation_end = weight_mean-weight_std_deviation, weight_mean+weight_std_deviation\n",
        "weight_second_std_deviation_start, weight_second_std_deviation_end = weight_mean-(2*weight_std_deviation), weight_mean+(2*weight_std_deviation)\n",
        "weight_third_std_deviation_start, weight_third_std_deviation_end = weight_mean-(3*weight_std_deviation), weight_mean+(3*weight_std_deviation)\n",
        "#Percentage of data within 1, 2 and 3 Standard Deviations for Height\n",
        "height_list_of_data_within_1_std_deviation = [result for result in height_list if result > height_first_std_deviation_start and result < height_first_std_deviation_end]\n",
        "height_list_of_data_within_2_std_deviation = [result for result in height_list if result > height_second_std_deviation_start and result < height_second_std_deviation_end]\n",
        "height_list_of_data_within_3_std_deviation = [result for result in height_list if result > height_third_std_deviation_start and result < height_third_std_deviation_end]\n",
        "#Percentage of data within 1, 2 and 3 Standard Deviations for Weight\n",
        "weight_list_of_data_within_1_std_deviation = [result for result in weight_list if result > weight_first_std_deviation_start and result < weight_first_std_deviation_end]\n",
        "weight_list_of_data_within_2_std_deviation = [result for result in weight_list if result > weight_second_std_deviation_start and result < weight_second_std_deviation_end]\n",
        "weight_list_of_data_within_3_std_deviation = [result for result in weight_list if result > weight_third_std_deviation_start and result < weight_third_std_deviation_end]\n",
        "#Printing data for height and weight (Standard Deviation)\n",
        "print(\"{}% of data for height lies within 1 standard deviation\".format(len(height_list_of_data_within_1_std_deviation)*100.0/len(height_list)))\n",
        "print(\"{}% of data for height lies within 2 standard deviations\".format(len(height_list_of_data_within_2_std_deviation)*100.0/len(height_list)))\n",
        "print(\"{}% of data for height lies within 3 standard deviations\".format(len(height_list_of_data_within_3_std_deviation)*100.0/len(height_list)))\n",
        "print(\"{}% of data for weight lies within 1 standard deviation\".format(len(weight_list_of_data_within_1_std_deviation)*100.0/len(weight_list)))\n",
        "print(\"{}% of data for weight lies within 2 standard deviations\".format(len(weight_list_of_data_within_2_std_deviation)*100.0/len(weight_list)))\n",
        "print(\"{}% of data for weight lies within 3 standard deviations\".format(len(weight_list_of_data_within_3_std_deviation)*100.0/len(weight_list)))"
      ],
      "execution_count": 23,
      "outputs": [
        {
          "output_type": "stream",
          "text": [
            "Mean, Median and Mode of height is 67.9931135968 and 67.9957 respectively\n",
            "Mean, Median and Mode of weight is 127.0794211608, 127.15775 and 124.7975 respectively\n",
            "68.356% of data for height lies within 1 standard deviation\n",
            "95.46% of data for height lies within 2 standard deviations\n",
            "99.796% of data for height lies within 3 standard deviations\n",
            "68.52% of data for weight lies within 1 standard deviation\n",
            "95.284% of data for weight lies within 2 standard deviations\n",
            "99.724% of data for weight lies within 3 standard deviations\n"
          ],
          "name": "stdout"
        }
      ]
    }
  ]
}